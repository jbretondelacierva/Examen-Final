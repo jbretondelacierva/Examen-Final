import plotly.express as px
import pandas as pd

# Create a sample dataframe
bank_df = pd.DataFrame({'age': [25, 30, 35, 40, 45, 50, 55, 60, 65, 70],
                        'y': ['no', 'no', 'no', 'no', 'no', 'no', 'no', 'no', 'no', 'no']})

# Generate the histogram with y='no'
fig_age_distribution = px.histogram(bank_df[bank_df['y'] == 'no'], x='age', title='Distribución de Edades (y = no)')

# Display the plot
fig_age_distribution.show()